{
 "cells": [
  {
   "cell_type": "code",
   "execution_count": 3,
   "id": "c20743db",
   "metadata": {},
   "outputs": [
    {
     "name": "stderr",
     "output_type": "stream",
     "text": [
      "2022/11/25 15:55:47 INFO mlflow.tracking.fluent: Experiment with name 'mlflow_dvc' does not exist. Creating a new experiment.\n",
      "/tmp/ipykernel_31939/29304171.py:30: DataConversionWarning: A column-vector y was passed when a 1d array was expected. Please change the shape of y to (n_samples,), for example using ravel().\n",
      "  rf.fit(X, Y)\n",
      "/home/ubuntu/anaconda3/lib/python3.9/site-packages/_distutils_hack/__init__.py:33: UserWarning: Setuptools is replacing distutils.\n",
      "  warnings.warn(\"Setuptools is replacing distutils.\")\n"
     ]
    }
   ],
   "source": [
    "import numpy as np\n",
    "import pandas as pd\n",
    "from sklearn.model_selection import train_test_split\n",
    "from sklearn.ensemble import RandomForestRegressor\n",
    "from sklearn.metrics import mean_squared_error\n",
    "import mlflow\n",
    "import mlflow.sklearn\n",
    "\n",
    "\n",
    "mlflow.set_tracking_uri('http://54.195.173.154:5000/')\n",
    "mlflow.set_experiment('mlflow_dvc')\n",
    "\n",
    "X = pd.read_csv('features.csv', usecols=['f1','f2','f3','f4'])\n",
    "Y = pd.read_csv('label.csv', usecols=['label'])\n",
    "\n",
    "with mlflow.start_run(run_name=\"experiment\") as run: \n",
    "    # tracking run parameters\n",
    "    mlflow.log_param(\"compute\", 'local')\n",
    "    mlflow.log_param(\"dataset\", 'example')\n",
    "    mlflow.log_param(\"dataset_version\", '2.0')\n",
    "    mlflow.log_param(\"dataset_path\", 's3://score-journey-boluo/data/')\n",
    "    mlflow.log_param(\"algo\", 'random forest example')\n",
    "    \n",
    "    # tracking any additional hyperparameters for reproducibility\n",
    "    n_estimators = 5\n",
    "    mlflow.log_param(\"n_estimators\", n_estimators)\n",
    "\n",
    "    # train the model\n",
    "    rf = RandomForestRegressor(n_estimators=n_estimators)\n",
    "    rf.fit(X, Y)\n",
    "    Y_pred = rf.predict(X)\n",
    "\n",
    "    # automatically save the model artifact to the S3 bucket for later deployment\n",
    "    mlflow.sklearn.log_model(rf, \"rf-baseline-model\")\n",
    "\n",
    "    # log model performance using any metric\n",
    "    mse = mean_squared_error(Y, Y_pred)\n",
    "    mlflow.log_metric(\"mse\", mse)\n",
    "    \n",
    "    mlflow.end_run()"
   ]
  },
  {
   "cell_type": "code",
   "execution_count": 2,
   "id": "e0d076e5",
   "metadata": {},
   "outputs": [
    {
     "name": "stdout",
     "output_type": "stream",
     "text": [
      "Collecting mlflow\n",
      "  Downloading mlflow-2.0.1-py3-none-any.whl (16.5 MB)\n",
      "\u001b[2K     \u001b[90m━━━━━━━━━━━━━━━━━━━━━━━━━━━━━━━━━━━━━━━━\u001b[0m \u001b[32m16.5/16.5 MB\u001b[0m \u001b[31m58.7 MB/s\u001b[0m eta \u001b[36m0:00:00\u001b[0m00:01\u001b[0m00:01\u001b[0m\n",
      "\u001b[?25hRequirement already satisfied: sqlalchemy<2,>=1.4.0 in /home/ubuntu/anaconda3/lib/python3.9/site-packages (from mlflow) (1.4.39)\n",
      "Requirement already satisfied: pytz<2023 in /home/ubuntu/anaconda3/lib/python3.9/site-packages (from mlflow) (2022.1)\n",
      "Requirement already satisfied: click<9,>=7.0 in /home/ubuntu/anaconda3/lib/python3.9/site-packages (from mlflow) (8.0.4)\n",
      "Collecting querystring-parser<2\n",
      "  Using cached querystring_parser-1.2.4-py2.py3-none-any.whl (7.9 kB)\n",
      "Collecting pyarrow<11,>=4.0.0\n",
      "  Downloading pyarrow-10.0.1-cp39-cp39-manylinux_2_17_x86_64.manylinux2014_x86_64.whl (35.9 MB)\n",
      "\u001b[2K     \u001b[90m━━━━━━━━━━━━━━━━━━━━━━━━━━━━━━━━━━━━━━━━\u001b[0m \u001b[32m35.9/35.9 MB\u001b[0m \u001b[31m38.2 MB/s\u001b[0m eta \u001b[36m0:00:00\u001b[0m00:01\u001b[0m00:01\u001b[0m\n",
      "\u001b[?25hCollecting shap<1,>=0.40\n",
      "  Downloading shap-0.41.0-cp39-cp39-manylinux_2_12_x86_64.manylinux2010_x86_64.whl (572 kB)\n",
      "\u001b[2K     \u001b[90m━━━━━━━━━━━━━━━━━━━━━━━━━━━━━━━━━━━━━━\u001b[0m \u001b[32m572.4/572.4 kB\u001b[0m \u001b[31m48.5 MB/s\u001b[0m eta \u001b[36m0:00:00\u001b[0m\n",
      "\u001b[?25hRequirement already satisfied: scipy<2 in /home/ubuntu/anaconda3/lib/python3.9/site-packages (from mlflow) (1.9.1)\n",
      "Requirement already satisfied: entrypoints<1 in /home/ubuntu/anaconda3/lib/python3.9/site-packages (from mlflow) (0.4)\n",
      "Requirement already satisfied: matplotlib<4 in /home/ubuntu/anaconda3/lib/python3.9/site-packages (from mlflow) (3.5.2)\n",
      "Requirement already satisfied: Flask<3 in /home/ubuntu/anaconda3/lib/python3.9/site-packages (from mlflow) (1.1.2)\n",
      "Requirement already satisfied: numpy<2 in /home/ubuntu/anaconda3/lib/python3.9/site-packages (from mlflow) (1.21.5)\n",
      "Requirement already satisfied: requests<3,>=2.17.3 in /home/ubuntu/anaconda3/lib/python3.9/site-packages (from mlflow) (2.28.1)\n",
      "Collecting sqlparse<1,>=0.4.0\n",
      "  Using cached sqlparse-0.4.3-py3-none-any.whl (42 kB)\n",
      "Requirement already satisfied: Jinja2<4,>=2.11 in /home/ubuntu/anaconda3/lib/python3.9/site-packages (from mlflow) (2.11.3)\n",
      "Requirement already satisfied: scikit-learn<2 in /home/ubuntu/anaconda3/lib/python3.9/site-packages (from mlflow) (1.0.2)\n",
      "Requirement already satisfied: pandas<2 in /home/ubuntu/anaconda3/lib/python3.9/site-packages (from mlflow) (1.4.4)\n",
      "Collecting docker<7,>=4.0.0\n",
      "  Using cached docker-6.0.1-py3-none-any.whl (147 kB)\n",
      "Requirement already satisfied: cloudpickle<3 in /home/ubuntu/anaconda3/lib/python3.9/site-packages (from mlflow) (2.0.0)\n",
      "Requirement already satisfied: packaging<22 in /home/ubuntu/anaconda3/lib/python3.9/site-packages (from mlflow) (21.3)\n",
      "Collecting gunicorn<21\n",
      "  Using cached gunicorn-20.1.0-py3-none-any.whl (79 kB)\n",
      "Requirement already satisfied: markdown<4,>=3.3 in /home/ubuntu/anaconda3/lib/python3.9/site-packages (from mlflow) (3.3.4)\n",
      "Collecting protobuf<5,>=3.12.0\n",
      "  Using cached protobuf-4.21.9-cp37-abi3-manylinux2014_x86_64.whl (408 kB)\n",
      "Collecting alembic<2\n",
      "  Using cached alembic-1.8.1-py3-none-any.whl (209 kB)\n",
      "Collecting databricks-cli<1,>=0.8.7\n",
      "  Using cached databricks-cli-0.17.3.tar.gz (77 kB)\n",
      "  Preparing metadata (setup.py) ... \u001b[?25ldone\n",
      "\u001b[?25hRequirement already satisfied: gitpython<4,>=2.1.0 in /home/ubuntu/anaconda3/lib/python3.9/site-packages (from mlflow) (3.1.29)\n",
      "Requirement already satisfied: pyyaml<7,>=5.1 in /home/ubuntu/anaconda3/lib/python3.9/site-packages (from mlflow) (6.0)\n",
      "Requirement already satisfied: importlib-metadata!=4.7.0,<6,>=3.7.0 in /home/ubuntu/anaconda3/lib/python3.9/site-packages (from mlflow) (4.11.3)\n",
      "Collecting Mako\n",
      "  Using cached Mako-1.2.4-py3-none-any.whl (78 kB)\n",
      "Requirement already satisfied: pyjwt>=1.7.0 in /home/ubuntu/anaconda3/lib/python3.9/site-packages (from databricks-cli<1,>=0.8.7->mlflow) (2.4.0)\n",
      "Collecting oauthlib>=3.1.0\n",
      "  Using cached oauthlib-3.2.2-py3-none-any.whl (151 kB)\n",
      "Requirement already satisfied: tabulate>=0.7.7 in /home/ubuntu/anaconda3/lib/python3.9/site-packages (from databricks-cli<1,>=0.8.7->mlflow) (0.8.10)\n",
      "Requirement already satisfied: six>=1.10.0 in /home/ubuntu/anaconda3/lib/python3.9/site-packages (from databricks-cli<1,>=0.8.7->mlflow) (1.16.0)\n",
      "Requirement already satisfied: websocket-client>=0.32.0 in /home/ubuntu/anaconda3/lib/python3.9/site-packages (from docker<7,>=4.0.0->mlflow) (0.58.0)\n",
      "Requirement already satisfied: urllib3>=1.26.0 in /home/ubuntu/anaconda3/lib/python3.9/site-packages (from docker<7,>=4.0.0->mlflow) (1.26.11)\n",
      "Requirement already satisfied: Werkzeug>=0.15 in /home/ubuntu/anaconda3/lib/python3.9/site-packages (from Flask<3->mlflow) (2.0.3)\n",
      "Requirement already satisfied: itsdangerous>=0.24 in /home/ubuntu/anaconda3/lib/python3.9/site-packages (from Flask<3->mlflow) (2.0.1)\n",
      "Requirement already satisfied: gitdb<5,>=4.0.1 in /home/ubuntu/anaconda3/lib/python3.9/site-packages (from gitpython<4,>=2.1.0->mlflow) (4.0.10)\n",
      "Requirement already satisfied: setuptools>=3.0 in /home/ubuntu/anaconda3/lib/python3.9/site-packages (from gunicorn<21->mlflow) (63.4.1)\n",
      "Requirement already satisfied: zipp>=0.5 in /home/ubuntu/anaconda3/lib/python3.9/site-packages (from importlib-metadata!=4.7.0,<6,>=3.7.0->mlflow) (3.8.0)\n",
      "Requirement already satisfied: MarkupSafe>=0.23 in /home/ubuntu/anaconda3/lib/python3.9/site-packages (from Jinja2<4,>=2.11->mlflow) (2.0.1)\n",
      "Requirement already satisfied: python-dateutil>=2.7 in /home/ubuntu/anaconda3/lib/python3.9/site-packages (from matplotlib<4->mlflow) (2.8.2)\n",
      "Requirement already satisfied: pillow>=6.2.0 in /home/ubuntu/anaconda3/lib/python3.9/site-packages (from matplotlib<4->mlflow) (9.2.0)\n",
      "Requirement already satisfied: cycler>=0.10 in /home/ubuntu/anaconda3/lib/python3.9/site-packages (from matplotlib<4->mlflow) (0.11.0)\n",
      "Requirement already satisfied: kiwisolver>=1.0.1 in /home/ubuntu/anaconda3/lib/python3.9/site-packages (from matplotlib<4->mlflow) (1.4.2)\n",
      "Requirement already satisfied: fonttools>=4.22.0 in /home/ubuntu/anaconda3/lib/python3.9/site-packages (from matplotlib<4->mlflow) (4.25.0)\n",
      "Requirement already satisfied: pyparsing>=2.2.1 in /home/ubuntu/anaconda3/lib/python3.9/site-packages (from matplotlib<4->mlflow) (3.0.9)\n",
      "Requirement already satisfied: certifi>=2017.4.17 in /home/ubuntu/anaconda3/lib/python3.9/site-packages (from requests<3,>=2.17.3->mlflow) (2022.9.14)\n",
      "Requirement already satisfied: idna<4,>=2.5 in /home/ubuntu/anaconda3/lib/python3.9/site-packages (from requests<3,>=2.17.3->mlflow) (3.3)\n",
      "Requirement already satisfied: charset-normalizer<3,>=2 in /home/ubuntu/anaconda3/lib/python3.9/site-packages (from requests<3,>=2.17.3->mlflow) (2.0.4)\n",
      "Requirement already satisfied: joblib>=0.11 in /home/ubuntu/anaconda3/lib/python3.9/site-packages (from scikit-learn<2->mlflow) (1.1.0)\n",
      "Requirement already satisfied: threadpoolctl>=2.0.0 in /home/ubuntu/anaconda3/lib/python3.9/site-packages (from scikit-learn<2->mlflow) (2.2.0)\n",
      "Requirement already satisfied: numba in /home/ubuntu/anaconda3/lib/python3.9/site-packages (from shap<1,>=0.40->mlflow) (0.55.1)\n",
      "Collecting slicer==0.0.7\n",
      "  Downloading slicer-0.0.7-py3-none-any.whl (14 kB)\n",
      "Requirement already satisfied: tqdm>4.25.0 in /home/ubuntu/anaconda3/lib/python3.9/site-packages (from shap<1,>=0.40->mlflow) (4.64.1)\n",
      "Requirement already satisfied: greenlet!=0.4.17 in /home/ubuntu/anaconda3/lib/python3.9/site-packages (from sqlalchemy<2,>=1.4.0->mlflow) (1.1.1)\n",
      "Requirement already satisfied: smmap<6,>=3.0.1 in /home/ubuntu/anaconda3/lib/python3.9/site-packages (from gitdb<5,>=4.0.1->gitpython<4,>=2.1.0->mlflow) (5.0.0)\n",
      "Requirement already satisfied: llvmlite<0.39,>=0.38.0rc1 in /home/ubuntu/anaconda3/lib/python3.9/site-packages (from numba->shap<1,>=0.40->mlflow) (0.38.0)\n",
      "Building wheels for collected packages: databricks-cli\n",
      "  Building wheel for databricks-cli (setup.py) ... \u001b[?25ldone\n",
      "\u001b[?25h  Created wheel for databricks-cli: filename=databricks_cli-0.17.3-py3-none-any.whl size=139084 sha256=eb632f641f3e24fc57d5c5ccf0f1e8dc0e43267c828f34288bf1623398eeb997\n",
      "  Stored in directory: /home/ubuntu/.cache/pip/wheels/7b/ef/c5/85718fa9e66dec117e42d8b4d7b8a2e40ebdec17232935615f\n",
      "Successfully built databricks-cli\n",
      "Installing collected packages: sqlparse, slicer, querystring-parser, pyarrow, protobuf, oauthlib, Mako, gunicorn, docker, databricks-cli, alembic, shap, mlflow\n"
     ]
    },
    {
     "name": "stdout",
     "output_type": "stream",
     "text": [
      "Successfully installed Mako-1.2.4 alembic-1.8.1 databricks-cli-0.17.3 docker-6.0.1 gunicorn-20.1.0 mlflow-2.0.1 oauthlib-3.2.2 protobuf-4.21.9 pyarrow-10.0.1 querystring-parser-1.2.4 shap-0.41.0 slicer-0.0.7 sqlparse-0.4.3\r\n"
     ]
    }
   ],
   "source": [
    "!pip install mlflow\n"
   ]
  },
  {
   "cell_type": "code",
   "execution_count": null,
   "id": "cea15ee0",
   "metadata": {},
   "outputs": [],
   "source": []
  }
 ],
 "metadata": {
  "kernelspec": {
   "display_name": "Python 3 (ipykernel)",
   "language": "python",
   "name": "python3"
  },
  "language_info": {
   "codemirror_mode": {
    "name": "ipython",
    "version": 3
   },
   "file_extension": ".py",
   "mimetype": "text/x-python",
   "name": "python",
   "nbconvert_exporter": "python",
   "pygments_lexer": "ipython3",
   "version": "3.9.13"
  }
 },
 "nbformat": 4,
 "nbformat_minor": 5
}
